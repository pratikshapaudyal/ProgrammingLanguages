{
 "cells": [
  {
   "cell_type": "markdown",
   "metadata": {},
   "source": [
    "## 1. Introduction\n",
    "The purpose of this project is to explore which programming languages and technologies are most popular with users on Stack Overflow. \n",
    "I am adapting the R programming languages notebook and rewriting it in Python. \n",
    "\"Each Stack Overflow question has a tag, which marks a question to describe its topic or technology. For instance, there's a tag for languages like R or Python, and for packages like ggplot2 or pandas.\""
   ]
  },
  {
   "cell_type": "code",
   "execution_count": 2,
   "metadata": {},
   "outputs": [],
   "source": [
    "import pandas as pd\n",
    "import numpy as np"
   ]
  },
  {
   "cell_type": "code",
   "execution_count": 4,
   "metadata": {},
   "outputs": [
    {
     "data": {
      "text/html": [
       "<div>\n",
       "<style scoped>\n",
       "    .dataframe tbody tr th:only-of-type {\n",
       "        vertical-align: middle;\n",
       "    }\n",
       "\n",
       "    .dataframe tbody tr th {\n",
       "        vertical-align: top;\n",
       "    }\n",
       "\n",
       "    .dataframe thead th {\n",
       "        text-align: right;\n",
       "    }\n",
       "</style>\n",
       "<table border=\"1\" class=\"dataframe\">\n",
       "  <thead>\n",
       "    <tr style=\"text-align: right;\">\n",
       "      <th></th>\n",
       "      <th>year</th>\n",
       "      <th>tag</th>\n",
       "      <th>number</th>\n",
       "      <th>year_total</th>\n",
       "    </tr>\n",
       "  </thead>\n",
       "  <tbody>\n",
       "    <tr>\n",
       "      <th>0</th>\n",
       "      <td>2008</td>\n",
       "      <td>.htaccess</td>\n",
       "      <td>54</td>\n",
       "      <td>58390</td>\n",
       "    </tr>\n",
       "    <tr>\n",
       "      <th>1</th>\n",
       "      <td>2008</td>\n",
       "      <td>.net</td>\n",
       "      <td>5910</td>\n",
       "      <td>58390</td>\n",
       "    </tr>\n",
       "    <tr>\n",
       "      <th>2</th>\n",
       "      <td>2008</td>\n",
       "      <td>.net-2.0</td>\n",
       "      <td>289</td>\n",
       "      <td>58390</td>\n",
       "    </tr>\n",
       "    <tr>\n",
       "      <th>3</th>\n",
       "      <td>2008</td>\n",
       "      <td>.net-3.5</td>\n",
       "      <td>319</td>\n",
       "      <td>58390</td>\n",
       "    </tr>\n",
       "    <tr>\n",
       "      <th>4</th>\n",
       "      <td>2008</td>\n",
       "      <td>.net-4.0</td>\n",
       "      <td>6</td>\n",
       "      <td>58390</td>\n",
       "    </tr>\n",
       "    <tr>\n",
       "      <th>...</th>\n",
       "      <td>...</td>\n",
       "      <td>...</td>\n",
       "      <td>...</td>\n",
       "      <td>...</td>\n",
       "    </tr>\n",
       "    <tr>\n",
       "      <th>40513</th>\n",
       "      <td>2018</td>\n",
       "      <td>zlib</td>\n",
       "      <td>89</td>\n",
       "      <td>1085170</td>\n",
       "    </tr>\n",
       "    <tr>\n",
       "      <th>40514</th>\n",
       "      <td>2018</td>\n",
       "      <td>zoom</td>\n",
       "      <td>196</td>\n",
       "      <td>1085170</td>\n",
       "    </tr>\n",
       "    <tr>\n",
       "      <th>40515</th>\n",
       "      <td>2018</td>\n",
       "      <td>zsh</td>\n",
       "      <td>175</td>\n",
       "      <td>1085170</td>\n",
       "    </tr>\n",
       "    <tr>\n",
       "      <th>40516</th>\n",
       "      <td>2018</td>\n",
       "      <td>zurb-foundation</td>\n",
       "      <td>182</td>\n",
       "      <td>1085170</td>\n",
       "    </tr>\n",
       "    <tr>\n",
       "      <th>40517</th>\n",
       "      <td>2018</td>\n",
       "      <td>zxing</td>\n",
       "      <td>95</td>\n",
       "      <td>1085170</td>\n",
       "    </tr>\n",
       "  </tbody>\n",
       "</table>\n",
       "<p>40518 rows × 4 columns</p>\n",
       "</div>"
      ],
      "text/plain": [
       "       year              tag  number  year_total\n",
       "0      2008        .htaccess      54       58390\n",
       "1      2008             .net    5910       58390\n",
       "2      2008         .net-2.0     289       58390\n",
       "3      2008         .net-3.5     319       58390\n",
       "4      2008         .net-4.0       6       58390\n",
       "...     ...              ...     ...         ...\n",
       "40513  2018             zlib      89     1085170\n",
       "40514  2018             zoom     196     1085170\n",
       "40515  2018              zsh     175     1085170\n",
       "40516  2018  zurb-foundation     182     1085170\n",
       "40517  2018            zxing      95     1085170\n",
       "\n",
       "[40518 rows x 4 columns]"
      ]
     },
     "execution_count": 4,
     "metadata": {},
     "output_type": "execute_result"
    }
   ],
   "source": [
    "# Load dataset\n",
    "by_tag_year = pd.read_csv('Datasets/by_tag_year.csv')\n",
    "\n",
    "# Inspect the dataset\n",
    "by_tag_year"
   ]
  },
  {
   "cell_type": "markdown",
   "metadata": {},
   "source": [
    "## 2. Add Fraction Column\n",
    "Rather than just view the number of questions asked as a count, I will adjust to show a percentage: the fraction of quesitons per year that have a particular tag.\n",
    "This 'fraction' column will be added to the original table."
   ]
  },
  {
   "cell_type": "code",
   "execution_count": 5,
   "metadata": {},
   "outputs": [],
   "source": [
    "# Add fraction column\n",
    "fraction = by_tag_year['number']/by_tag_year['year_total']\n",
    "by_tag_year['fraction'] = fraction"
   ]
  },
  {
   "cell_type": "code",
   "execution_count": 5,
   "metadata": {},
   "outputs": [
    {
     "data": {
      "text/html": [
       "<div>\n",
       "<style scoped>\n",
       "    .dataframe tbody tr th:only-of-type {\n",
       "        vertical-align: middle;\n",
       "    }\n",
       "\n",
       "    .dataframe tbody tr th {\n",
       "        vertical-align: top;\n",
       "    }\n",
       "\n",
       "    .dataframe thead th {\n",
       "        text-align: right;\n",
       "    }\n",
       "</style>\n",
       "<table border=\"1\" class=\"dataframe\">\n",
       "  <thead>\n",
       "    <tr style=\"text-align: right;\">\n",
       "      <th></th>\n",
       "      <th>year</th>\n",
       "      <th>tag</th>\n",
       "      <th>number</th>\n",
       "      <th>year_total</th>\n",
       "      <th>fraction</th>\n",
       "    </tr>\n",
       "  </thead>\n",
       "  <tbody>\n",
       "    <tr>\n",
       "      <th>0</th>\n",
       "      <td>2008</td>\n",
       "      <td>.htaccess</td>\n",
       "      <td>54</td>\n",
       "      <td>58390</td>\n",
       "      <td>0.000925</td>\n",
       "    </tr>\n",
       "    <tr>\n",
       "      <th>1</th>\n",
       "      <td>2008</td>\n",
       "      <td>.net</td>\n",
       "      <td>5910</td>\n",
       "      <td>58390</td>\n",
       "      <td>0.101216</td>\n",
       "    </tr>\n",
       "    <tr>\n",
       "      <th>2</th>\n",
       "      <td>2008</td>\n",
       "      <td>.net-2.0</td>\n",
       "      <td>289</td>\n",
       "      <td>58390</td>\n",
       "      <td>0.004949</td>\n",
       "    </tr>\n",
       "    <tr>\n",
       "      <th>3</th>\n",
       "      <td>2008</td>\n",
       "      <td>.net-3.5</td>\n",
       "      <td>319</td>\n",
       "      <td>58390</td>\n",
       "      <td>0.005463</td>\n",
       "    </tr>\n",
       "    <tr>\n",
       "      <th>4</th>\n",
       "      <td>2008</td>\n",
       "      <td>.net-4.0</td>\n",
       "      <td>6</td>\n",
       "      <td>58390</td>\n",
       "      <td>0.000103</td>\n",
       "    </tr>\n",
       "    <tr>\n",
       "      <th>...</th>\n",
       "      <td>...</td>\n",
       "      <td>...</td>\n",
       "      <td>...</td>\n",
       "      <td>...</td>\n",
       "      <td>...</td>\n",
       "    </tr>\n",
       "    <tr>\n",
       "      <th>40513</th>\n",
       "      <td>2018</td>\n",
       "      <td>zlib</td>\n",
       "      <td>89</td>\n",
       "      <td>1085170</td>\n",
       "      <td>0.000082</td>\n",
       "    </tr>\n",
       "    <tr>\n",
       "      <th>40514</th>\n",
       "      <td>2018</td>\n",
       "      <td>zoom</td>\n",
       "      <td>196</td>\n",
       "      <td>1085170</td>\n",
       "      <td>0.000181</td>\n",
       "    </tr>\n",
       "    <tr>\n",
       "      <th>40515</th>\n",
       "      <td>2018</td>\n",
       "      <td>zsh</td>\n",
       "      <td>175</td>\n",
       "      <td>1085170</td>\n",
       "      <td>0.000161</td>\n",
       "    </tr>\n",
       "    <tr>\n",
       "      <th>40516</th>\n",
       "      <td>2018</td>\n",
       "      <td>zurb-foundation</td>\n",
       "      <td>182</td>\n",
       "      <td>1085170</td>\n",
       "      <td>0.000168</td>\n",
       "    </tr>\n",
       "    <tr>\n",
       "      <th>40517</th>\n",
       "      <td>2018</td>\n",
       "      <td>zxing</td>\n",
       "      <td>95</td>\n",
       "      <td>1085170</td>\n",
       "      <td>0.000088</td>\n",
       "    </tr>\n",
       "  </tbody>\n",
       "</table>\n",
       "<p>40518 rows × 5 columns</p>\n",
       "</div>"
      ],
      "text/plain": [
       "       year              tag  number  year_total  fraction\n",
       "0      2008        .htaccess      54       58390  0.000925\n",
       "1      2008             .net    5910       58390  0.101216\n",
       "2      2008         .net-2.0     289       58390  0.004949\n",
       "3      2008         .net-3.5     319       58390  0.005463\n",
       "4      2008         .net-4.0       6       58390  0.000103\n",
       "...     ...              ...     ...         ...       ...\n",
       "40513  2018             zlib      89     1085170  0.000082\n",
       "40514  2018             zoom     196     1085170  0.000181\n",
       "40515  2018              zsh     175     1085170  0.000161\n",
       "40516  2018  zurb-foundation     182     1085170  0.000168\n",
       "40517  2018            zxing      95     1085170  0.000088\n",
       "\n",
       "[40518 rows x 5 columns]"
      ]
     },
     "execution_count": 5,
     "metadata": {},
     "output_type": "execute_result"
    }
   ],
   "source": [
    "by_tag_year"
   ]
  },
  {
   "cell_type": "markdown",
   "metadata": {},
   "source": [
    "## 3. Has Python been growing or shrinking?\n",
    "The original notebook looked at the trend of R, however I am interested in viewing the trend for Python.\n",
    "I will investigate if the faction of Stack Overflow questions about Python has been increasing or decreasing over time. "
   ]
  },
  {
   "cell_type": "code",
   "execution_count": 6,
   "metadata": {},
   "outputs": [
    {
     "data": {
      "text/html": [
       "<div>\n",
       "<style scoped>\n",
       "    .dataframe tbody tr th:only-of-type {\n",
       "        vertical-align: middle;\n",
       "    }\n",
       "\n",
       "    .dataframe tbody tr th {\n",
       "        vertical-align: top;\n",
       "    }\n",
       "\n",
       "    .dataframe thead th {\n",
       "        text-align: right;\n",
       "    }\n",
       "</style>\n",
       "<table border=\"1\" class=\"dataframe\">\n",
       "  <thead>\n",
       "    <tr style=\"text-align: right;\">\n",
       "      <th></th>\n",
       "      <th>year</th>\n",
       "      <th>tag</th>\n",
       "      <th>number</th>\n",
       "      <th>year_total</th>\n",
       "      <th>fraction</th>\n",
       "    </tr>\n",
       "  </thead>\n",
       "  <tbody>\n",
       "    <tr>\n",
       "      <th>1794</th>\n",
       "      <td>2008</td>\n",
       "      <td>python</td>\n",
       "      <td>2080</td>\n",
       "      <td>58390</td>\n",
       "      <td>0.035623</td>\n",
       "    </tr>\n",
       "    <tr>\n",
       "      <th>4796</th>\n",
       "      <td>2009</td>\n",
       "      <td>python</td>\n",
       "      <td>12906</td>\n",
       "      <td>343868</td>\n",
       "      <td>0.037532</td>\n",
       "    </tr>\n",
       "    <tr>\n",
       "      <th>8105</th>\n",
       "      <td>2010</td>\n",
       "      <td>python</td>\n",
       "      <td>27098</td>\n",
       "      <td>694391</td>\n",
       "      <td>0.039024</td>\n",
       "    </tr>\n",
       "    <tr>\n",
       "      <th>11615</th>\n",
       "      <td>2011</td>\n",
       "      <td>python</td>\n",
       "      <td>42313</td>\n",
       "      <td>1200551</td>\n",
       "      <td>0.035245</td>\n",
       "    </tr>\n",
       "    <tr>\n",
       "      <th>15325</th>\n",
       "      <td>2012</td>\n",
       "      <td>python</td>\n",
       "      <td>64456</td>\n",
       "      <td>1645404</td>\n",
       "      <td>0.039173</td>\n",
       "    </tr>\n",
       "    <tr>\n",
       "      <th>19158</th>\n",
       "      <td>2013</td>\n",
       "      <td>python</td>\n",
       "      <td>96803</td>\n",
       "      <td>2060473</td>\n",
       "      <td>0.046981</td>\n",
       "    </tr>\n",
       "    <tr>\n",
       "      <th>23103</th>\n",
       "      <td>2014</td>\n",
       "      <td>python</td>\n",
       "      <td>116945</td>\n",
       "      <td>2164701</td>\n",
       "      <td>0.054024</td>\n",
       "    </tr>\n",
       "    <tr>\n",
       "      <th>27122</th>\n",
       "      <td>2015</td>\n",
       "      <td>python</td>\n",
       "      <td>137861</td>\n",
       "      <td>2219527</td>\n",
       "      <td>0.062113</td>\n",
       "    </tr>\n",
       "    <tr>\n",
       "      <th>31173</th>\n",
       "      <td>2016</td>\n",
       "      <td>python</td>\n",
       "      <td>159436</td>\n",
       "      <td>2226072</td>\n",
       "      <td>0.071622</td>\n",
       "    </tr>\n",
       "    <tr>\n",
       "      <th>35233</th>\n",
       "      <td>2017</td>\n",
       "      <td>python</td>\n",
       "      <td>203522</td>\n",
       "      <td>2305207</td>\n",
       "      <td>0.088288</td>\n",
       "    </tr>\n",
       "    <tr>\n",
       "      <th>39282</th>\n",
       "      <td>2018</td>\n",
       "      <td>python</td>\n",
       "      <td>107348</td>\n",
       "      <td>1085170</td>\n",
       "      <td>0.098923</td>\n",
       "    </tr>\n",
       "  </tbody>\n",
       "</table>\n",
       "</div>"
      ],
      "text/plain": [
       "       year     tag  number  year_total  fraction\n",
       "1794   2008  python    2080       58390  0.035623\n",
       "4796   2009  python   12906      343868  0.037532\n",
       "8105   2010  python   27098      694391  0.039024\n",
       "11615  2011  python   42313     1200551  0.035245\n",
       "15325  2012  python   64456     1645404  0.039173\n",
       "19158  2013  python   96803     2060473  0.046981\n",
       "23103  2014  python  116945     2164701  0.054024\n",
       "27122  2015  python  137861     2219527  0.062113\n",
       "31173  2016  python  159436     2226072  0.071622\n",
       "35233  2017  python  203522     2305207  0.088288\n",
       "39282  2018  python  107348     1085170  0.098923"
      ]
     },
     "execution_count": 6,
     "metadata": {},
     "output_type": "execute_result"
    }
   ],
   "source": [
    "# Filter for Python tags\n",
    "py_over_time = by_tag_year[by_tag_year['tag']=='python']\n",
    "\n",
    "# Print the new table\n",
    "py_over_time"
   ]
  },
  {
   "cell_type": "markdown",
   "metadata": {},
   "source": [
    "## 4. Visualise the change over time\n",
    "Convert the results in the table above to a graphical visualisation. Change over time is usually visualised with a line plot. "
   ]
  },
  {
   "cell_type": "code",
   "execution_count": 7,
   "metadata": {},
   "outputs": [
    {
     "data": {
      "image/png": "[encoded data removed]",
      "text/plain": [
       "<Figure size 432x288 with 1 Axes>"
      ]
     },
     "metadata": {
      "needs_background": "light"
     },
     "output_type": "display_data"
    }
   ],
   "source": [
    "# Load matplotlib\n",
    "import matplotlib.pyplot as plt\n",
    "\n",
    "# Create a line plot of fraction over time\n",
    "plt.plot(py_over_time['year'], py_over_time['fraction'])\n",
    "plt.xlabel('Year')\n",
    "plt.ylabel('Fraction')\n",
    "\n",
    "plt.show()"
   ]
  },
  {
   "cell_type": "markdown",
   "metadata": {},
   "source": [
    "## 5. How about pandas and matplotlib?\n",
    "There is a slight dip in 2011, but since then Python seems to be on an upwards trend.\n",
    "\n",
    "Besides Python I will look now at 'matplotlib' and 'pandas', as they also have Stack Overflow tags.\n",
    "\n",
    "Instead of just looking at Python, I will look at all three tags and their change over time. Are each of those tags increasing as a fraction of overall questions? Are any of the tags decreasing?"
   ]
  },
  {
   "cell_type": "code",
   "execution_count": 8,
   "metadata": {},
   "outputs": [
    {
     "name": "stdout",
     "output_type": "stream",
     "text": [
      "       year         tag  number  year_total  fraction\n",
      "1357   2008  matplotlib       4       58390  0.000069\n",
      "1794   2008      python    2080       58390  0.035623\n",
      "4278   2009  matplotlib      86      343868  0.000250\n",
      "4796   2009      python   12906      343868  0.037532\n",
      "7545   2010  matplotlib     331      694391  0.000477\n",
      "8105   2010      python   27098      694391  0.039024\n",
      "11033  2011  matplotlib     811     1200551  0.000676\n",
      "11401  2011      pandas      12     1200551  0.000010\n",
      "11615  2011      python   42313     1200551  0.035245\n",
      "14714  2012  matplotlib    1617     1645404  0.000983\n",
      "15100  2012      pandas     753     1645404  0.000458\n",
      "15325  2012      python   64456     1645404  0.039173\n",
      "18530  2013  matplotlib    2997     2060473  0.001455\n",
      "18925  2013      pandas    3038     2060473  0.001474\n",
      "19158  2013      python   96803     2060473  0.046981\n",
      "22458  2014  matplotlib    3910     2164701  0.001806\n",
      "22864  2014      pandas    5683     2164701  0.002625\n",
      "23103  2014      python  116945     2164701  0.054024\n",
      "26471  2015  matplotlib    4646     2219527  0.002093\n",
      "26882  2015      pandas    9017     2219527  0.004063\n",
      "27122  2015      python  137861     2219527  0.062113\n",
      "30520  2016  matplotlib    5691     2226072  0.002557\n",
      "30932  2016      pandas   15272     2226072  0.006861\n",
      "31173  2016      python  159436     2226072  0.071622\n",
      "34582  2017  matplotlib    7300     2305207  0.003167\n",
      "34993  2017      pandas   23917     2305207  0.010375\n",
      "35233  2017      python  203522     2305207  0.088288\n",
      "38633  2018  matplotlib    3614     1085170  0.003330\n",
      "39042  2018      pandas   14535     1085170  0.013394\n",
      "39282  2018      python  107348     1085170  0.098923\n"
     ]
    }
   ],
   "source": [
    "# An array of selected tags\n",
    "sel_tags = ['python', 'matplotlib', 'pandas']\n",
    "\n",
    "# Filter for the tags included in sel_tags\n",
    "sel_tags_over_time = by_tag_year[by_tag_year.tag.isin(sel_tags)]\n",
    "print(sel_tags_over_time)"
   ]
  },
  {
   "cell_type": "code",
   "execution_count": 9,
   "metadata": {},
   "outputs": [
    {
     "data": {
      "text/plain": [
       "<matplotlib.legend.Legend at 0xf5adc10>"
      ]
     },
     "execution_count": 9,
     "metadata": {},
     "output_type": "execute_result"
    },
    {
     "data": {
      "image/png": "[encoded data removed]",
      "text/plain": [
       "<Figure size 432x288 with 1 Axes>"
      ]
     },
     "metadata": {
      "needs_background": "light"
     },
     "output_type": "display_data"
    }
   ],
   "source": [
    "# Plot the line graph\n",
    "fig,ax = plt.subplots()\n",
    "\n",
    "for tag in sel_tags:\n",
    "    tag_plot = sel_tags_over_time[sel_tags_over_time.tag==tag]\n",
    "    ax.plot(tag_plot.year, tag_plot.fraction, label=tag)\n",
    "    \n",
    "plt.xlabel('Year')\n",
    "plt.ylabel('Fraction')\n",
    "plt.legend(title='Tag')"
   ]
  },
  {
   "cell_type": "markdown",
   "metadata": {},
   "source": [
    "The graph shows that there are not as many questions asked about matplotlib or pandas as there are about Python.\n",
    "Matplotlib doesn't have much increase, but pandas is steadily growing."
   ]
  },
  {
   "cell_type": "markdown",
   "metadata": {},
   "source": [
    "## 6. What are the most asked about tags? \n",
    "Which tags have the most questions overall?"
   ]
  },
  {
   "cell_type": "code",
   "execution_count": 17,
   "metadata": {},
   "outputs": [
    {
     "data": {
      "text/plain": [
       "tag\n",
       "lazy-loading              16003754\n",
       "image-processing          16003754\n",
       "ini                       16003754\n",
       "inheritance               16003754\n",
       "infragistics              16003754\n",
       "                            ...   \n",
       "android-studio-3.0         3390377\n",
       "react-navigation           3390377\n",
       "hyperledger-composer       3390377\n",
       "dialogflow                 3390377\n",
       "google-cloud-firestore     3390377\n",
       "Name: year_total, Length: 4078, dtype: int64"
      ]
     },
     "execution_count": 17,
     "metadata": {},
     "output_type": "execute_result"
    }
   ],
   "source": [
    "# Find total number of questions for each tag\n",
    "sorted_tags = by_tag_year.groupby('tag')['year_total'].sum().sort_values(ascending=False)\n",
    "sorted_tags"
   ]
  },
  {
   "cell_type": "markdown",
   "metadata": {},
   "source": [
    "## 7. How have large programming languages changed over time?"
   ]
  },
  {
   "cell_type": "code",
   "execution_count": 24,
   "metadata": {},
   "outputs": [
    {
     "name": "stdout",
     "output_type": "stream",
     "text": [
      "       year         tag  number  year_total  fraction\n",
      "255    2008          c#    7473       58390  0.127984\n",
      "259    2008         c++    3111       58390  0.053280\n",
      "1131   2008        java    4315       58390  0.073900\n",
      "1143   2008  javascript    2736       58390  0.046857\n",
      "1794   2008      python    2080       58390  0.035623\n",
      "...     ...         ...     ...         ...       ...\n",
      "37006  2018         c++   28895     1085170  0.026627\n",
      "38291  2018        java   83841     1085170  0.077261\n",
      "38309  2018  javascript  115726     1085170  0.106643\n",
      "39282  2018      python  107348     1085170  0.098923\n",
      "39328  2018           r   28938     1085170  0.026667\n",
      "\n",
      "[66 rows x 5 columns]\n"
     ]
    }
   ],
   "source": [
    "# An array of selected language tags\n",
    "sel_lang_tags = ['python', 'javascript', 'c#', 'r', 'java', 'c++']\n",
    "            \n",
    "# Filter for the tags included in sel_lang_tags\n",
    "sel_lang_tags_over_time = by_tag_year[by_tag_year.tag.isin(sel_lang_tags)]\n",
    "print(sel_lang_tags_over_time)"
   ]
  },
  {
   "cell_type": "code",
   "execution_count": 25,
   "metadata": {},
   "outputs": [
    {
     "data": {
      "text/plain": [
       "<matplotlib.legend.Legend at 0x520dfd0>"
      ]
     },
     "execution_count": 25,
     "metadata": {},
     "output_type": "execute_result"
    },
    {
     "data": {
      "image/png": "[encoded data removed]",
      "text/plain": [
       "<Figure size 432x288 with 1 Axes>"
      ]
     },
     "metadata": {
      "needs_background": "light"
     },
     "output_type": "display_data"
    }
   ],
   "source": [
    "# Plot the line graph\n",
    "fig,ax = plt.subplots()\n",
    "\n",
    "for tag in sel_lang_tags:\n",
    "    tag_lag_plot = sel_lang_tags_over_time[sel_lang_tags_over_time.tag==tag]\n",
    "    ax.plot(tag_lag_plot.year, tag_lag_plot.fraction, label=tag)\n",
    "    \n",
    "plt.xlabel('Year')\n",
    "plt.ylabel('Fraction')\n",
    "plt.legend(title='Tag')"
   ]
  },
  {
   "cell_type": "markdown",
   "metadata": {},
   "source": [
    "Python and R are on an upwards trend, C# has been steadily decreasing."
   ]
  }
 ],
 "metadata": {
  "kernelspec": {
   "display_name": "Python 3",
   "language": "python",
   "name": "python3"
  },
  "language_info": {
   "codemirror_mode": {
    "name": "ipython",
    "version": 3
   },
   "file_extension": ".py",
   "mimetype": "text/x-python",
   "name": "python",
   "nbconvert_exporter": "python",
   "pygments_lexer": "ipython3",
   "version": "3.7.2"
  }
 },
 "nbformat": 4,
 "nbformat_minor": 4
}
